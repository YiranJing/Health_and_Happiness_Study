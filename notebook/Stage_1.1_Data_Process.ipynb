{
 "cells": [
  {
   "cell_type": "markdown",
   "metadata": {},
   "source": [
    "# Stage 1.1 : Data Process\n",
    "---\n",
    "\n",
    "---\n",
    "## Contents\n",
    "1. [Background](#Background)\n",
    "    2. [Data Description](#Data_Description)\n",
    "1. [Data transformation](#Data_transformation)\n",
    "    1. Filter support data records for only 2015,2016 and 2017\n",
    "    1. Filter based on relevant method of measure\n",
    "    1. Combine Happiness datasets\n",
    "    1. [Group by Average](#Group_by_Average ) \n",
    "    2. Outer Join support OECD datasets based on the `Location` and `year`\n",
    "    3. Left Join (Return all rows from Main data) based on the `Location` and `year`\n",
    "    4. [Match OECD and Happiness data by country code](#Using_country_code_to_match_datasets)\n",
    "2. [Data Cleaning](#Data_Cleaning)\n",
    "    1. Detect incorrect values\n",
    "    2. Convert string type to numerical columns¶\n",
    "    3. Check duplicate rows\n",
    "    4. Check missing value\n",
    "    5. Handle missing value \n",
    "       - Drop rows \n",
    "       - Fill missing value\n",
    "\n",
    "3. [Data Analysis](#Data_Analysis)\n",
    "    See Stage_1.2_Exploratory_Data_Analysis.ipynb\n",
    "\n",
    "\n",
    "\n",
    "\n",
    "### Data Description\n",
    "**Main datasets**: Happiness level rank in 2015, 2016, and 2017\n",
    "\n",
    "**Support datasets**: \n",
    "- Body Health: alcohol_consumption, overweight_population\n",
    "- Mental Health: suicide_statistics\n",
    "- Economy: disposable_income\n",
    "- Environment: air_pollution\n",
    "- Education: adult_education\n",
    "- Jobs: avg_annual_hours, employment_ratios\n",
    "- Society: tourismGDP\n",
    "- Country_code (Alpha-3)\n",
    "---"
   ]
  },
  {
   "cell_type": "code",
   "execution_count": 1,
   "metadata": {},
   "outputs": [],
   "source": [
    "import requests\n",
    "import json\n",
    "import pandas as pd\n",
    "import re\n",
    "import math\n",
    "import warnings\n",
    "warnings.filterwarnings('ignore')\n",
    "import csv\n",
    "import numpy as np\n",
    "import matplotlib.pyplot as plt\n",
    "import seaborn as sns\n",
    "from scipy import stats\n",
    "import statsmodels.api as sm\n",
    "from sklearn.model_selection import train_test_split\n",
    "from scipy.stats import norm, skew\n",
    "from sklearn.linear_model import LogisticRegression\n",
    "pd.set_option('display.max_columns', 50) # show all columns\n",
    "pd.set_option('display.max_rows', 500) # show all rows\n",
    "from matplotlib.colors import LogNorm"
   ]
  },
  {
   "cell_type": "markdown",
   "metadata": {},
   "source": [
    "### Load data"
   ]
  },
  {
   "cell_type": "code",
   "execution_count": 2,
   "metadata": {},
   "outputs": [],
   "source": [
    "## Load world hapiness data\n",
    "happiness_2015 = pd.read_csv(\"../data/world-happiness/2015.csv\")\n",
    "happiness_2016 = pd.read_csv(\"../data/world-happiness/2016.csv\")\n",
    "happiness_2017 = pd.read_csv(\"../data/world-happiness/2017.csv\")"
   ]
  },
  {
   "cell_type": "code",
   "execution_count": 3,
   "metadata": {},
   "outputs": [],
   "source": [
    "## Rename 2017 dataset since it columns are inconsistent with 2015 and 2016 dataset.\n",
    "happiness_2017 = happiness_2017.rename(columns = { \n",
    "                                  \"Happiness.Rank\":\"Happiness Rank\",\n",
    "                                  'Happiness.Score':'Happiness Score',\n",
    "                                  'Economy..GDP.per.Capita.':'Economy (GDP per Capita)',\n",
    "                                  'Health..Life.Expectancy.':'Health (Life Expectancy)',\n",
    "                                  'Trust..Government.Corruption.':'Trust (Government Corruption)',\n",
    "                                  'Dystopia.Residual':'Dystopia Residual'\n",
    "})"
   ]
  },
  {
   "cell_type": "code",
   "execution_count": 4,
   "metadata": {},
   "outputs": [
    {
     "data": {
      "text/plain": [
       "470"
      ]
     },
     "execution_count": 4,
     "metadata": {},
     "output_type": "execute_result"
    }
   ],
   "source": [
    "len(happiness_2015) + len(happiness_2016) + len(happiness_2017)"
   ]
  },
  {
   "cell_type": "code",
   "execution_count": 6,
   "metadata": {},
   "outputs": [],
   "source": [
    "### Load economy data\n",
    "disposable_income = pd.read_csv(\"../data/economy/household-disposable-income.csv\")\n",
    "\n",
    "### education data\n",
    "adult_education = pd.read_csv(\"../data/education/adult-education-level.csv\")\n",
    "\n",
    "### Load environment data\n",
    "air_pollution = pd.read_csv(\"../data/environment/air-pollution-exposure.csv\")\n",
    "\n",
    "### Load health data\n",
    "alcohol_consumption = pd.read_csv(\"../data/body_health/alcohol-consumption.csv\")\n",
    "overweight_population = pd.read_csv(\"../data/body_health/overweight-population.csv\")\n",
    "\n",
    "### Load jobs data\n",
    "avg_annual_hours = pd.read_csv(\"../data/jobs/average-annual-hours-worked-per-worker.csv\")\n",
    "income_inequality = pd.read_csv(\"../data/jobs/Income-inequality-Gini-coefficient.csv\",encoding = 'unicode_escape')\n",
    "unemployment = pd.read_csv(\"../data/jobs/Unemployment-total-of-labour-force.csv\",encoding = 'unicode_escape')\n",
    "unemployment = unemployment.drop(columns=['Unemployment, total (% of labour force)']).reset_index()\n",
    "header = unemployment.iloc[0]\n",
    "unemployment = unemployment[1:]\n",
    "unemployment =unemployment.rename(columns = header)\n",
    " \n",
    "### Society data\n",
    "HDI = pd.read_csv(\"../data/society/Human-Development-Index-HDI.csv\",encoding = 'unicode_escape')\n",
    "HDI = HDI.drop(columns=['Human Development Index (HDI)']).reset_index()\n",
    "header = HDI.iloc[0]\n",
    "HDI = HDI[1:]\n",
    "HDI = HDI.rename(columns = header)"
   ]
  },
  {
   "cell_type": "code",
   "execution_count": 7,
   "metadata": {},
   "outputs": [],
   "source": [
    "overweight_population = overweight_population.rename(columns = { \n",
    "                                  \"YEAR (CODE)\":\"TIME\",\n",
    "                                  'COUNTRY (CODE)': \"LOCATION\",\n",
    "                                    'Numeric': \"Value\"}) "
   ]
  },
  {
   "cell_type": "code",
   "execution_count": 8,
   "metadata": {},
   "outputs": [],
   "source": [
    "#### Rename to unify column names\n",
    "avg_annual_hours = avg_annual_hours.rename(columns = { \n",
    "                                  \"COUNTRY\":\"LOCATION\"}) \n",
    "income_inequality = income_inequality.rename(columns = { \n",
    "                                  \"Country\":\"LOCATION\"}) \n",
    "\n",
    "unemployment = unemployment.rename(columns = { \n",
    "                                  \"Country\":\"LOCATION\"}) \n",
    "\n",
    "HDI = HDI.rename(columns = {\"Country\":\"LOCATION\"}) "
   ]
  },
  {
   "cell_type": "markdown",
   "metadata": {},
   "source": [
    "## Data transformation\n",
    "1. Filter support data records for only 2015,2016 and 2017\n",
    "2. Filter based on relevant method of measure:\n",
    " - disposable_income was filtered to only contain rows from the category USD_CAP. \n",
    " - adult_education was filtered to contain only rows from the category TRY. \n",
    " - air_pollution, rows from the category PC_POP were kept \n",
    " - avg_annual_hours, only rows from the TE category were kept. \n",
    "\n",
    "\n",
    "2. Group by Aberage, to simplier data: the country in the given year has only one value (using average of observation)\n",
    "2. Outer Join support datasets based on the `Location` and `year`\n",
    "3. Left Join (Return all rows from Main data) based on the `Location` and `year`\n"
   ]
  },
  {
   "cell_type": "markdown",
   "metadata": {},
   "source": [
    "### Filter year data\n",
    "We only need 2015,2016 and 2017 observations"
   ]
  },
  {
   "cell_type": "code",
   "execution_count": 9,
   "metadata": {},
   "outputs": [],
   "source": [
    "\"\"\"\n",
    "Filter the records in 2015, 2016 and 2017 only\n",
    "Parameters:\n",
    "---------------------------------------------\n",
    "    years: a list\n",
    "    data: the input dataset\n",
    "    \n",
    "Return:\n",
    "---------------------------------------------\n",
    "    the filer new dataset with records only in 2015, 2016 and 2017\n",
    "\n",
    "\"\"\"\n",
    "\n",
    "\n",
    "def filter_year(years, data):\n",
    "    data = data[data.TIME.isin(years)]\n",
    "    if len(data) == 0:\n",
    "        print(\"useless data\")\n",
    "    return data"
   ]
  },
  {
   "cell_type": "code",
   "execution_count": 10,
   "metadata": {},
   "outputs": [],
   "source": [
    "years = [2015, 2016, 2017]\n",
    "\n",
    "disposable_income = filter_year(years, disposable_income)\n",
    "adult_education = filter_year(years, adult_education)\n",
    "air_pollution = filter_year(years, air_pollution)\n",
    "alcohol_consumption = filter_year(years, alcohol_consumption)\n",
    "overweight_population = filter_year(years, overweight_population)\n",
    "avg_annual_hours = filter_year(years, avg_annual_hours)\n",
    "\n",
    "income_inequality = income_inequality[['HDI Rank (2017)', 'LOCATION', '2015', '2016', '2017']]\n",
    "unemployment = unemployment[['LOCATION','2015', '2016', '2017']]\n",
    "HDI = HDI[['LOCATION','2015', '2016', '2017']]"
   ]
  },
  {
   "cell_type": "markdown",
   "metadata": {},
   "source": [
    "### Filter Measures\n",
    "- disposable_income was filtered to only contain rows from the category USD_CAP. \n",
    "- adult_education was filtered to contain only rows from the category TRY. \n",
    "- air_pollution, rows from the category PC_POP were kept\n",
    "- avg_annual_hours, only rows from the TE category were kept. "
   ]
  },
  {
   "cell_type": "code",
   "execution_count": 11,
   "metadata": {},
   "outputs": [],
   "source": [
    "# 💕 new part!\n",
    "disposable_income = disposable_income[disposable_income.MEASURE == 'USD_CAP']\n",
    "adult_education = adult_education[adult_education.SUBJECT == 'TRY']\n",
    "air_pollution = air_pollution[air_pollution.MEASURE == 'PC_POP']\n",
    "avg_annual_hours = avg_annual_hours[avg_annual_hours.EMPSTAT == 'TE']"
   ]
  },
  {
   "cell_type": "code",
   "execution_count": 12,
   "metadata": {},
   "outputs": [
    {
     "name": "stdout",
     "output_type": "stream",
     "text": [
      "158\n",
      "157\n",
      "155\n"
     ]
    }
   ],
   "source": [
    "print(len(happiness_2015))\n",
    "print(len(happiness_2016))\n",
    "print(len(happiness_2017))"
   ]
  },
  {
   "cell_type": "markdown",
   "metadata": {},
   "source": [
    "### Combine Happiness datasets"
   ]
  },
  {
   "cell_type": "code",
   "execution_count": 13,
   "metadata": {},
   "outputs": [],
   "source": [
    "def input_values(year, data1, data2, country, column_name, row_count):\n",
    "    try:\n",
    "        data1.at[row_count, column_name] = data2.loc[data2['LOCATION'] == country][str(year)].tolist()[0]\n",
    "    except IndexError: # cannot find value in dataset\n",
    "        data1.at[row_count, column_name] = None\n",
    "    return data1\n",
    "\n",
    "def input_values2(year, data1, data2, country, column_name, row_count):\n",
    "    try:\n",
    "        data1.at[row_count, column_name] = data2.loc[data2['Country'] == country][column_name].tolist()[0]\n",
    "    except IndexError: # cannot find value in dataset\n",
    "        data1.at[row_count, column_name] = None\n",
    "    return data1\n",
    "\n",
    "def input_given_year(year, country, row_count, happiness,combined_df, income_inequality, HDI, unemployment):\n",
    "    combined_df.at[row_count, 'LOCATION'] = country\n",
    "    combined_df.at[row_count, 'TIME'] = year\n",
    "    \n",
    "    if year != 2017:\n",
    "        combined_df.at[row_count, 'HDI Rank (2017)'] = None # we only have 2017 HDI rank\n",
    "    else:\n",
    "        try:\n",
    "            combined_df.at[row_count, 'HDI Rank (2017)'] =  income_inequality.loc[income_inequality['LOCATION'] ==country]['HDI Rank (2017)'].tolist()[0]\n",
    "        except IndexError: \n",
    "            combined_df.at[row_count, 'HDI Rank (2017)'] = None\n",
    "    \n",
    "    combined_df = input_values(year, combined_df, income_inequality, country, 'income_inequality', row_count)\n",
    "    combined_df = input_values(year, combined_df, HDI, country, 'HDI_value', row_count)\n",
    "    combined_df = input_values(year, combined_df, unemployment, country, 'unemployment', row_count)\n",
    "    \n",
    "    for column in ['Happiness Rank','Happiness Score','Economy (GDP per Capita)', 'Family',\n",
    "                                   'Health (Life Expectancy)', 'Freedom', 'Trust (Government Corruption)',\n",
    "                                   'Generosity', 'Dystopia Residual']:\n",
    "        combined_df= input_values2(year, combined_df, happiness, country, column, row_count)\n",
    "    \n",
    "    return combined_df"
   ]
  },
  {
   "cell_type": "code",
   "execution_count": 14,
   "metadata": {},
   "outputs": [],
   "source": [
    "combined_df = pd.DataFrame(columns=['LOCATION', 'TIME', 'Happiness Rank', 'HDI Rank (2017)','income_inequality', \n",
    "                                   'unemployment','HDI_value','Region','Happiness Score',\n",
    "                                   'Economy (GDP per Capita)', 'Family',\n",
    "                                   'Health (Life Expectancy)', 'Freedom', 'Trust (Government Corruption)',\n",
    "                                   'Generosity', 'Dystopia Residual'])\n",
    "\n",
    "row_count = -1\n",
    "for index, row in happiness_2015.iterrows():\n",
    "    \n",
    "    # search country\n",
    "    country = row['Country']\n",
    "    region = row['Region']\n",
    "\n",
    "    ## Fill 2015 observation\n",
    "    row_count += 1\n",
    "    combined_df = input_given_year(2015, country, row_count, happiness_2015, combined_df, \n",
    "                                   income_inequality, HDI, unemployment)\n",
    "    combined_df.at[row_count, 'Region'] = region\n",
    "    \n",
    "    ## Fill 2016 observation\n",
    "    row_count += 1\n",
    "    combined_df = input_given_year(2016, country, row_count, happiness_2016, combined_df,\n",
    "                                   income_inequality, HDI, unemployment)\n",
    "    combined_df.at[row_count, 'Region'] = region\n",
    "    \n",
    "    ## Fill 2017 observation\n",
    "    row_count += 1\n",
    "    combined_df = input_given_year(2017, country, row_count, happiness_2017, combined_df,\n",
    "                                  income_inequality, HDI, unemployment)\n",
    "    combined_df.at[row_count, 'Region'] = region\n",
    "    \n",
    "    "
   ]
  },
  {
   "cell_type": "code",
   "execution_count": 15,
   "metadata": {},
   "outputs": [
    {
     "data": {
      "text/html": [
       "<div>\n",
       "<style scoped>\n",
       "    .dataframe tbody tr th:only-of-type {\n",
       "        vertical-align: middle;\n",
       "    }\n",
       "\n",
       "    .dataframe tbody tr th {\n",
       "        vertical-align: top;\n",
       "    }\n",
       "\n",
       "    .dataframe thead th {\n",
       "        text-align: right;\n",
       "    }\n",
       "</style>\n",
       "<table border=\"1\" class=\"dataframe\">\n",
       "  <thead>\n",
       "    <tr style=\"text-align: right;\">\n",
       "      <th></th>\n",
       "      <th>LOCATION</th>\n",
       "      <th>TIME</th>\n",
       "      <th>Happiness Rank</th>\n",
       "      <th>HDI Rank (2017)</th>\n",
       "      <th>income_inequality</th>\n",
       "      <th>unemployment</th>\n",
       "      <th>HDI_value</th>\n",
       "      <th>Region</th>\n",
       "      <th>Happiness Score</th>\n",
       "      <th>Economy (GDP per Capita)</th>\n",
       "      <th>Family</th>\n",
       "      <th>Health (Life Expectancy)</th>\n",
       "      <th>Freedom</th>\n",
       "      <th>Trust (Government Corruption)</th>\n",
       "      <th>Generosity</th>\n",
       "      <th>Dystopia Residual</th>\n",
       "    </tr>\n",
       "  </thead>\n",
       "  <tbody>\n",
       "    <tr>\n",
       "      <th>0</th>\n",
       "      <td>Switzerland</td>\n",
       "      <td>2015</td>\n",
       "      <td>1</td>\n",
       "      <td>None</td>\n",
       "      <td>8.4</td>\n",
       "      <td>4.8</td>\n",
       "      <td>0.942</td>\n",
       "      <td>Western Europe</td>\n",
       "      <td>7.587</td>\n",
       "      <td>1.39651</td>\n",
       "      <td>1.34951</td>\n",
       "      <td>0.94143</td>\n",
       "      <td>0.66557</td>\n",
       "      <td>0.41978</td>\n",
       "      <td>0.29678</td>\n",
       "      <td>2.51738</td>\n",
       "    </tr>\n",
       "    <tr>\n",
       "      <th>1</th>\n",
       "      <td>Switzerland</td>\n",
       "      <td>2016</td>\n",
       "      <td>2</td>\n",
       "      <td>None</td>\n",
       "      <td>7.5</td>\n",
       "      <td>4.9</td>\n",
       "      <td>0.943</td>\n",
       "      <td>Western Europe</td>\n",
       "      <td>7.509</td>\n",
       "      <td>1.52733</td>\n",
       "      <td>1.14524</td>\n",
       "      <td>0.86303</td>\n",
       "      <td>0.58557</td>\n",
       "      <td>0.41203</td>\n",
       "      <td>0.28083</td>\n",
       "      <td>2.69463</td>\n",
       "    </tr>\n",
       "    <tr>\n",
       "      <th>2</th>\n",
       "      <td>Switzerland</td>\n",
       "      <td>2017</td>\n",
       "      <td>4</td>\n",
       "      <td>2</td>\n",
       "      <td>7.5</td>\n",
       "      <td>4.8</td>\n",
       "      <td>0.944</td>\n",
       "      <td>Western Europe</td>\n",
       "      <td>7.494</td>\n",
       "      <td>1.56498</td>\n",
       "      <td>1.51691</td>\n",
       "      <td>0.858131</td>\n",
       "      <td>0.620071</td>\n",
       "      <td>0.367007</td>\n",
       "      <td>0.290549</td>\n",
       "      <td>2.27672</td>\n",
       "    </tr>\n",
       "  </tbody>\n",
       "</table>\n",
       "</div>"
      ],
      "text/plain": [
       "      LOCATION  TIME Happiness Rank HDI Rank (2017) income_inequality  \\\n",
       "0  Switzerland  2015              1            None               8.4   \n",
       "1  Switzerland  2016              2            None               7.5   \n",
       "2  Switzerland  2017              4               2               7.5   \n",
       "\n",
       "  unemployment HDI_value          Region Happiness Score  \\\n",
       "0          4.8     0.942  Western Europe           7.587   \n",
       "1          4.9     0.943  Western Europe           7.509   \n",
       "2          4.8     0.944  Western Europe           7.494   \n",
       "\n",
       "  Economy (GDP per Capita)   Family Health (Life Expectancy)   Freedom  \\\n",
       "0                  1.39651  1.34951                  0.94143   0.66557   \n",
       "1                  1.52733  1.14524                  0.86303   0.58557   \n",
       "2                  1.56498  1.51691                 0.858131  0.620071   \n",
       "\n",
       "  Trust (Government Corruption) Generosity Dystopia Residual  \n",
       "0                       0.41978    0.29678           2.51738  \n",
       "1                       0.41203    0.28083           2.69463  \n",
       "2                      0.367007   0.290549           2.27672  "
      ]
     },
     "execution_count": 15,
     "metadata": {},
     "output_type": "execute_result"
    }
   ],
   "source": [
    "combined_df.head(3)"
   ]
  },
  {
   "cell_type": "markdown",
   "metadata": {},
   "source": [
    "### Group by Average \n",
    "To simplier data: the country in the given year has only one value (using average of observation)"
   ]
  },
  {
   "cell_type": "code",
   "execution_count": 16,
   "metadata": {},
   "outputs": [],
   "source": [
    "disposable_income = disposable_income.groupby(['LOCATION', 'TIME'])[\"Value\"].mean()\n",
    "adult_education = adult_education.groupby(['LOCATION', 'TIME'])[\"Value\"].mean()\n",
    "air_pollution = air_pollution.groupby(['LOCATION', 'TIME'])[\"Value\"].mean()\n",
    "alcohol_consumption = alcohol_consumption.groupby(['LOCATION', 'TIME'])[\"Value\"].mean()\n",
    "overweight_population = overweight_population.groupby(['LOCATION', 'TIME'])[\"Value\"].mean()\n",
    "avg_annual_hours = avg_annual_hours.groupby(['LOCATION', 'TIME'])[\"Value\"].mean()"
   ]
  },
  {
   "cell_type": "markdown",
   "metadata": {},
   "source": [
    "### Outer Join support datasets"
   ]
  },
  {
   "cell_type": "code",
   "execution_count": 17,
   "metadata": {},
   "outputs": [],
   "source": [
    "new_df = pd.merge(disposable_income, adult_education,  \n",
    "                  how='outer', \n",
    "                  left_on=['LOCATION','TIME'], \n",
    "                  right_on = ['LOCATION','TIME'],\n",
    "                  suffixes=('_disposable_income', '_adult_education'))\n",
    "\n",
    "new_df2 = pd.merge(alcohol_consumption, air_pollution,  \n",
    "                  how='outer', \n",
    "                  left_on=['LOCATION','TIME'], \n",
    "                  right_on = ['LOCATION','TIME'],\n",
    "                  suffixes=('_alcohol_consumption', '_air_pollution'))\n"
   ]
  },
  {
   "cell_type": "code",
   "execution_count": 18,
   "metadata": {},
   "outputs": [],
   "source": [
    "new_df3 = pd.merge(overweight_population, avg_annual_hours,  \n",
    "                  how='outer', \n",
    "                  left_on=['LOCATION','TIME'], \n",
    "                  right_on = ['LOCATION','TIME'],\n",
    "                  suffixes=('_overweight_population', '_avg_annual_hours'))\n"
   ]
  },
  {
   "cell_type": "code",
   "execution_count": null,
   "metadata": {},
   "outputs": [],
   "source": []
  },
  {
   "cell_type": "code",
   "execution_count": 19,
   "metadata": {},
   "outputs": [],
   "source": [
    "final_data = pd.merge(new_df, new_df2,\n",
    "                      left_on=['LOCATION','TIME'], \n",
    "                      right_on = ['LOCATION','TIME'],\n",
    "                      how='outer')\n",
    "final_data = pd.merge(final_data, new_df3,\n",
    "                      left_on=['LOCATION','TIME'], \n",
    "                      right_on = ['LOCATION','TIME'],\n",
    "                      how='outer')"
   ]
  },
  {
   "cell_type": "code",
   "execution_count": 20,
   "metadata": {},
   "outputs": [],
   "source": [
    "final_data.reset_index(inplace=True)  "
   ]
  },
  {
   "cell_type": "code",
   "execution_count": 21,
   "metadata": {},
   "outputs": [
    {
     "data": {
      "text/plain": [
       "207"
      ]
     },
     "execution_count": 21,
     "metadata": {},
     "output_type": "execute_result"
    }
   ],
   "source": [
    "len(final_data['LOCATION'].unique()) # number of countries"
   ]
  },
  {
   "cell_type": "code",
   "execution_count": 22,
   "metadata": {
    "scrolled": true
   },
   "outputs": [
    {
     "data": {
      "text/html": [
       "<div>\n",
       "<style scoped>\n",
       "    .dataframe tbody tr th:only-of-type {\n",
       "        vertical-align: middle;\n",
       "    }\n",
       "\n",
       "    .dataframe tbody tr th {\n",
       "        vertical-align: top;\n",
       "    }\n",
       "\n",
       "    .dataframe thead th {\n",
       "        text-align: right;\n",
       "    }\n",
       "</style>\n",
       "<table border=\"1\" class=\"dataframe\">\n",
       "  <thead>\n",
       "    <tr style=\"text-align: right;\">\n",
       "      <th></th>\n",
       "      <th>LOCATION</th>\n",
       "      <th>TIME</th>\n",
       "      <th>Value_disposable_income</th>\n",
       "      <th>Value_adult_education</th>\n",
       "      <th>Value_alcohol_consumption</th>\n",
       "      <th>Value_air_pollution</th>\n",
       "      <th>Value_overweight_population</th>\n",
       "      <th>Value_avg_annual_hours</th>\n",
       "    </tr>\n",
       "  </thead>\n",
       "  <tbody>\n",
       "    <tr>\n",
       "      <th>0</th>\n",
       "      <td>AUS</td>\n",
       "      <td>2015</td>\n",
       "      <td>37740.175079</td>\n",
       "      <td>42.888756</td>\n",
       "      <td>9.7</td>\n",
       "      <td>27.35672</td>\n",
       "      <td>64.033333</td>\n",
       "      <td>1683.55</td>\n",
       "    </tr>\n",
       "    <tr>\n",
       "      <th>1</th>\n",
       "      <td>AUS</td>\n",
       "      <td>2016</td>\n",
       "      <td>38658.848064</td>\n",
       "      <td>43.743900</td>\n",
       "      <td>9.4</td>\n",
       "      <td>26.00392</td>\n",
       "      <td>64.500000</td>\n",
       "      <td>1673.40</td>\n",
       "    </tr>\n",
       "    <tr>\n",
       "      <th>2</th>\n",
       "      <td>AUS</td>\n",
       "      <td>2017</td>\n",
       "      <td>39928.817097</td>\n",
       "      <td>45.355675</td>\n",
       "      <td>NaN</td>\n",
       "      <td>25.97999</td>\n",
       "      <td>NaN</td>\n",
       "      <td>1674.90</td>\n",
       "    </tr>\n",
       "    <tr>\n",
       "      <th>3</th>\n",
       "      <td>AUT</td>\n",
       "      <td>2015</td>\n",
       "      <td>34429.798275</td>\n",
       "      <td>30.550726</td>\n",
       "      <td>11.6</td>\n",
       "      <td>93.02611</td>\n",
       "      <td>53.900000</td>\n",
       "      <td>1500.00</td>\n",
       "    </tr>\n",
       "    <tr>\n",
       "      <th>4</th>\n",
       "      <td>AUT</td>\n",
       "      <td>2016</td>\n",
       "      <td>35653.315625</td>\n",
       "      <td>31.383963</td>\n",
       "      <td>11.8</td>\n",
       "      <td>87.03744</td>\n",
       "      <td>54.300000</td>\n",
       "      <td>1512.00</td>\n",
       "    </tr>\n",
       "    <tr>\n",
       "      <th>5</th>\n",
       "      <td>AUT</td>\n",
       "      <td>2017</td>\n",
       "      <td>36166.190395</td>\n",
       "      <td>32.394390</td>\n",
       "      <td>NaN</td>\n",
       "      <td>87.03754</td>\n",
       "      <td>NaN</td>\n",
       "      <td>1511.00</td>\n",
       "    </tr>\n",
       "    <tr>\n",
       "      <th>6</th>\n",
       "      <td>BEL</td>\n",
       "      <td>2015</td>\n",
       "      <td>32180.143590</td>\n",
       "      <td>36.857422</td>\n",
       "      <td>10.4</td>\n",
       "      <td>96.32111</td>\n",
       "      <td>59.200000</td>\n",
       "      <td>1545.00</td>\n",
       "    </tr>\n",
       "    <tr>\n",
       "      <th>7</th>\n",
       "      <td>BEL</td>\n",
       "      <td>2016</td>\n",
       "      <td>32965.901327</td>\n",
       "      <td>37.503956</td>\n",
       "      <td>NaN</td>\n",
       "      <td>93.32899</td>\n",
       "      <td>59.500000</td>\n",
       "      <td>1545.00</td>\n",
       "    </tr>\n",
       "    <tr>\n",
       "      <th>8</th>\n",
       "      <td>BEL</td>\n",
       "      <td>2017</td>\n",
       "      <td>33946.477041</td>\n",
       "      <td>40.257053</td>\n",
       "      <td>NaN</td>\n",
       "      <td>93.53039</td>\n",
       "      <td>NaN</td>\n",
       "      <td>1545.00</td>\n",
       "    </tr>\n",
       "    <tr>\n",
       "      <th>9</th>\n",
       "      <td>CAN</td>\n",
       "      <td>2015</td>\n",
       "      <td>31845.932814</td>\n",
       "      <td>55.173660</td>\n",
       "      <td>8.0</td>\n",
       "      <td>0.94055</td>\n",
       "      <td>63.666667</td>\n",
       "      <td>1712.00</td>\n",
       "    </tr>\n",
       "  </tbody>\n",
       "</table>\n",
       "</div>"
      ],
      "text/plain": [
       "  LOCATION  TIME  Value_disposable_income  Value_adult_education  \\\n",
       "0      AUS  2015             37740.175079              42.888756   \n",
       "1      AUS  2016             38658.848064              43.743900   \n",
       "2      AUS  2017             39928.817097              45.355675   \n",
       "3      AUT  2015             34429.798275              30.550726   \n",
       "4      AUT  2016             35653.315625              31.383963   \n",
       "5      AUT  2017             36166.190395              32.394390   \n",
       "6      BEL  2015             32180.143590              36.857422   \n",
       "7      BEL  2016             32965.901327              37.503956   \n",
       "8      BEL  2017             33946.477041              40.257053   \n",
       "9      CAN  2015             31845.932814              55.173660   \n",
       "\n",
       "   Value_alcohol_consumption  Value_air_pollution  \\\n",
       "0                        9.7             27.35672   \n",
       "1                        9.4             26.00392   \n",
       "2                        NaN             25.97999   \n",
       "3                       11.6             93.02611   \n",
       "4                       11.8             87.03744   \n",
       "5                        NaN             87.03754   \n",
       "6                       10.4             96.32111   \n",
       "7                        NaN             93.32899   \n",
       "8                        NaN             93.53039   \n",
       "9                        8.0              0.94055   \n",
       "\n",
       "   Value_overweight_population  Value_avg_annual_hours  \n",
       "0                    64.033333                 1683.55  \n",
       "1                    64.500000                 1673.40  \n",
       "2                          NaN                 1674.90  \n",
       "3                    53.900000                 1500.00  \n",
       "4                    54.300000                 1512.00  \n",
       "5                          NaN                 1511.00  \n",
       "6                    59.200000                 1545.00  \n",
       "7                    59.500000                 1545.00  \n",
       "8                          NaN                 1545.00  \n",
       "9                    63.666667                 1712.00  "
      ]
     },
     "execution_count": 22,
     "metadata": {},
     "output_type": "execute_result"
    }
   ],
   "source": [
    "final_data.head(10)"
   ]
  },
  {
   "cell_type": "markdown",
   "metadata": {},
   "source": [
    "### Using country code to match datasets\n",
    "dataset resource:\n",
    "https://gis.stackexchange.com/questions/1047/seeking-full-list-of-iso-alpha-2-and-iso-alpha-3-country-codes"
   ]
  },
  {
   "cell_type": "code",
   "execution_count": 23,
   "metadata": {},
   "outputs": [],
   "source": [
    "country_code = pd.read_csv(\"../data/country_codes/wikipedia-iso-country-codes.csv\")"
   ]
  },
  {
   "cell_type": "code",
   "execution_count": 24,
   "metadata": {},
   "outputs": [],
   "source": [
    "country_code = country_code[['English short name lower case','Alpha-3 code']]\n",
    "#country_code.head()"
   ]
  },
  {
   "cell_type": "code",
   "execution_count": 25,
   "metadata": {},
   "outputs": [
    {
     "name": "stdout",
     "output_type": "stream",
     "text": [
      "EA\n",
      "EU\n",
      "OAVG\n",
      "EU28\n",
      "G20\n",
      "G7M\n",
      "OECD\n",
      "OECDE\n",
      "WLD\n",
      "SDF\n",
      "SSD\n"
     ]
    },
    {
     "data": {
      "text/plain": [
       "197"
      ]
     },
     "execution_count": 25,
     "metadata": {},
     "output_type": "execute_result"
    }
   ],
   "source": [
    "## create a directory to collect all useful countries\n",
    "country_codes = {}\n",
    "for code in final_data['LOCATION'].unique():\n",
    "    try:\n",
    "        country_name = country_code.loc[country_code['Alpha-3 code'] == code]['English short name lower case'].tolist()[0]\n",
    "        if country_name == 'Congo, the Democratic Republic of the':\n",
    "            country_name = 'Congo (Kinshasa)'\n",
    "        elif country_name == 'Congo':\n",
    "            country_name = 'Congo (Brazzaville)'\n",
    "        \n",
    "        country_name = country_name.replace(', Republic of','').replace(' the former Yugoslav Republic of','')\n",
    "        country_name = country_name.replace(', Plurinational State of','').replace(', Islamic Republic of','').replace(\" Democratic People's Republic of\",'')\n",
    "        \n",
    "        country_codes[code] = country_name\n",
    "    except IndexError: # cannt find relevant match\n",
    "        print(code)\n",
    "        continue\n",
    "    country_codes['OECD'] = 'OECD countries' # special case\n",
    "    \n",
    "len(country_codes)"
   ]
  },
  {
   "cell_type": "code",
   "execution_count": 26,
   "metadata": {},
   "outputs": [],
   "source": [
    "#combined_df['LOCATION'].unique()"
   ]
  },
  {
   "cell_type": "code",
   "execution_count": 27,
   "metadata": {},
   "outputs": [
    {
     "name": "stdout",
     "output_type": "stream",
     "text": [
      "Unable to match EA\n",
      "Unable to match EA\n",
      "Unable to match EA\n",
      "Unable to match EU\n",
      "Unable to match EU\n",
      "Unable to match EU\n",
      "Unable to match OAVG\n",
      "Unable to match OAVG\n",
      "Unable to match OAVG\n",
      "Unable to match EU28\n",
      "Unable to match EU28\n",
      "Unable to match EU28\n",
      "Unable to match G20\n",
      "Unable to match G20\n",
      "Unable to match G20\n",
      "Unable to match G7M\n",
      "Unable to match G7M\n",
      "Unable to match G7M\n",
      "Unable to match OECDE\n",
      "Unable to match OECDE\n",
      "Unable to match OECDE\n",
      "Unable to match WLD\n",
      "Unable to match WLD\n",
      "Unable to match WLD\n",
      "Unable to match SDF\n",
      "Unable to match SDF\n",
      "Unable to match SSD\n",
      "Unable to match SSD\n"
     ]
    }
   ],
   "source": [
    "for index, row in final_data.iterrows():\n",
    "    if row['LOCATION'] in country_codes:\n",
    "        final_data.at[index,'LOCATION'] = country_codes[row['LOCATION']]\n",
    "    else:\n",
    "        print(\"Unable to match {}\".format(row['LOCATION']))"
   ]
  },
  {
   "cell_type": "code",
   "execution_count": 28,
   "metadata": {},
   "outputs": [],
   "source": [
    "final_data = pd.merge(final_data, combined_df,\n",
    "                      left_on=['LOCATION','TIME'], \n",
    "                      right_on = ['LOCATION','TIME'],\n",
    "                      how='inner')  # right outer join"
   ]
  },
  {
   "cell_type": "code",
   "execution_count": 29,
   "metadata": {},
   "outputs": [
    {
     "data": {
      "text/plain": [
       "143"
      ]
     },
     "execution_count": 29,
     "metadata": {},
     "output_type": "execute_result"
    }
   ],
   "source": [
    "len(final_data['LOCATION'].unique())  # we finally match 140 countries"
   ]
  },
  {
   "cell_type": "code",
   "execution_count": 47,
   "metadata": {},
   "outputs": [
    {
     "data": {
      "text/html": [
       "<div>\n",
       "<style scoped>\n",
       "    .dataframe tbody tr th:only-of-type {\n",
       "        vertical-align: middle;\n",
       "    }\n",
       "\n",
       "    .dataframe tbody tr th {\n",
       "        vertical-align: top;\n",
       "    }\n",
       "\n",
       "    .dataframe thead th {\n",
       "        text-align: right;\n",
       "    }\n",
       "</style>\n",
       "<table border=\"1\" class=\"dataframe\">\n",
       "  <thead>\n",
       "    <tr style=\"text-align: right;\">\n",
       "      <th></th>\n",
       "      <th>LOCATION</th>\n",
       "      <th>TIME</th>\n",
       "      <th>Value_disposable_income</th>\n",
       "      <th>Value_adult_education</th>\n",
       "      <th>Value_alcohol_consumption</th>\n",
       "      <th>Value_air_pollution</th>\n",
       "      <th>Value_overweight_population</th>\n",
       "      <th>Value_avg_annual_hours</th>\n",
       "      <th>Happiness Rank</th>\n",
       "      <th>HDI Rank (2017)</th>\n",
       "      <th>income_inequality</th>\n",
       "      <th>unemployment</th>\n",
       "      <th>HDI_value</th>\n",
       "      <th>Region</th>\n",
       "      <th>Happiness Score</th>\n",
       "      <th>Economy (GDP per Capita)</th>\n",
       "      <th>Family</th>\n",
       "      <th>Health (Life Expectancy)</th>\n",
       "      <th>Freedom</th>\n",
       "      <th>Trust (Government Corruption)</th>\n",
       "      <th>Generosity</th>\n",
       "      <th>Dystopia Residual</th>\n",
       "    </tr>\n",
       "  </thead>\n",
       "  <tbody>\n",
       "    <tr>\n",
       "      <th>0</th>\n",
       "      <td>Australia</td>\n",
       "      <td>2015</td>\n",
       "      <td>37740.175079</td>\n",
       "      <td>42.888756</td>\n",
       "      <td>9.7</td>\n",
       "      <td>27.35672</td>\n",
       "      <td>64.033333</td>\n",
       "      <td>1683.55</td>\n",
       "      <td>10</td>\n",
       "      <td>None</td>\n",
       "      <td>8</td>\n",
       "      <td>6.1</td>\n",
       "      <td>0.936</td>\n",
       "      <td>Australia and New Zealand</td>\n",
       "      <td>7.284</td>\n",
       "      <td>1.33358</td>\n",
       "      <td>1.30923</td>\n",
       "      <td>0.93156</td>\n",
       "      <td>0.65124</td>\n",
       "      <td>0.35637</td>\n",
       "      <td>0.43562</td>\n",
       "      <td>2.26646</td>\n",
       "    </tr>\n",
       "    <tr>\n",
       "      <th>1</th>\n",
       "      <td>Australia</td>\n",
       "      <td>2016</td>\n",
       "      <td>38658.848064</td>\n",
       "      <td>43.743900</td>\n",
       "      <td>9.4</td>\n",
       "      <td>26.00392</td>\n",
       "      <td>64.500000</td>\n",
       "      <td>1673.40</td>\n",
       "      <td>9</td>\n",
       "      <td>None</td>\n",
       "      <td>8.3</td>\n",
       "      <td>5.7</td>\n",
       "      <td>0.938</td>\n",
       "      <td>Australia and New Zealand</td>\n",
       "      <td>7.313</td>\n",
       "      <td>1.44443</td>\n",
       "      <td>1.10476</td>\n",
       "      <td>0.8512</td>\n",
       "      <td>0.56837</td>\n",
       "      <td>0.32331</td>\n",
       "      <td>0.47407</td>\n",
       "      <td>2.5465</td>\n",
       "    </tr>\n",
       "  </tbody>\n",
       "</table>\n",
       "</div>"
      ],
      "text/plain": [
       "    LOCATION  TIME  Value_disposable_income  Value_adult_education  \\\n",
       "0  Australia  2015             37740.175079              42.888756   \n",
       "1  Australia  2016             38658.848064              43.743900   \n",
       "\n",
       "   Value_alcohol_consumption  Value_air_pollution  \\\n",
       "0                        9.7             27.35672   \n",
       "1                        9.4             26.00392   \n",
       "\n",
       "   Value_overweight_population  Value_avg_annual_hours Happiness Rank  \\\n",
       "0                    64.033333                 1683.55             10   \n",
       "1                    64.500000                 1673.40              9   \n",
       "\n",
       "  HDI Rank (2017) income_inequality unemployment HDI_value  \\\n",
       "0            None                 8          6.1     0.936   \n",
       "1            None               8.3          5.7     0.938   \n",
       "\n",
       "                      Region Happiness Score Economy (GDP per Capita)  \\\n",
       "0  Australia and New Zealand           7.284                  1.33358   \n",
       "1  Australia and New Zealand           7.313                  1.44443   \n",
       "\n",
       "    Family Health (Life Expectancy)  Freedom Trust (Government Corruption)  \\\n",
       "0  1.30923                  0.93156  0.65124                       0.35637   \n",
       "1  1.10476                   0.8512  0.56837                       0.32331   \n",
       "\n",
       "  Generosity Dystopia Residual  \n",
       "0    0.43562           2.26646  \n",
       "1    0.47407            2.5465  "
      ]
     },
     "execution_count": 47,
     "metadata": {},
     "output_type": "execute_result"
    }
   ],
   "source": [
    "final_data.head(2)"
   ]
  },
  {
   "cell_type": "code",
   "execution_count": 31,
   "metadata": {},
   "outputs": [
    {
     "data": {
      "text/plain": [
       "(426, 22)"
      ]
     },
     "execution_count": 31,
     "metadata": {},
     "output_type": "execute_result"
    }
   ],
   "source": [
    "df = final_data\n",
    "df.shape"
   ]
  },
  {
   "cell_type": "markdown",
   "metadata": {},
   "source": [
    "## Data Cleaning\n",
    "1. Detect incorrect values\n",
    "2. Convert string type to numerical columns¶\n",
    "3. Check duplicate rows\n",
    "4. Check missing value\n",
    "5. Handle missing value \n",
    "   - Drop rows \n",
    "   - Fill missing value\n"
   ]
  },
  {
   "cell_type": "markdown",
   "metadata": {},
   "source": [
    "### Detect incorrect values\n",
    "- Since we have lots of string, such as `..` in numiercal columns\n",
    "- Replace them with `None` first, and will fill in them with other missing values in later steps"
   ]
  },
  {
   "cell_type": "code",
   "execution_count": 32,
   "metadata": {},
   "outputs": [],
   "source": [
    "df = df.replace('..', None)"
   ]
  },
  {
   "cell_type": "markdown",
   "metadata": {},
   "source": [
    "### Convert string type to numerical columns"
   ]
  },
  {
   "cell_type": "code",
   "execution_count": 33,
   "metadata": {},
   "outputs": [
    {
     "name": "stdout",
     "output_type": "stream",
     "text": [
      "<class 'pandas.core.frame.DataFrame'>\n",
      "Int64Index: 426 entries, 0 to 425\n",
      "Data columns (total 22 columns):\n",
      "LOCATION                         426 non-null object\n",
      "TIME                             426 non-null object\n",
      "Value_disposable_income          97 non-null float64\n",
      "Value_adult_education            120 non-null float64\n",
      "Value_alcohol_consumption        104 non-null float64\n",
      "Value_air_pollution              417 non-null float64\n",
      "Value_overweight_population      282 non-null float64\n",
      "Value_avg_annual_hours           106 non-null float64\n",
      "Happiness Rank                   417 non-null object\n",
      "HDI Rank (2017)                  125 non-null object\n",
      "income_inequality                380 non-null object\n",
      "unemployment                     402 non-null object\n",
      "HDI_value                        402 non-null object\n",
      "Region                           426 non-null object\n",
      "Happiness Score                  417 non-null object\n",
      "Economy (GDP per Capita)         417 non-null object\n",
      "Family                           417 non-null object\n",
      "Health (Life Expectancy)         417 non-null object\n",
      "Freedom                          417 non-null object\n",
      "Trust (Government Corruption)    417 non-null object\n",
      "Generosity                       417 non-null object\n",
      "Dystopia Residual                417 non-null object\n",
      "dtypes: float64(6), object(16)\n",
      "memory usage: 76.5+ KB\n"
     ]
    }
   ],
   "source": [
    "df.info()"
   ]
  },
  {
   "cell_type": "code",
   "execution_count": 34,
   "metadata": {},
   "outputs": [],
   "source": [
    "# the columns that shoube be in numerical type\n",
    "for column in ['Happiness Rank', 'HDI Rank (2017)', 'income_inequality',\n",
    "       'unemployment', 'HDI_value', 'Happiness Score',\n",
    "       'Economy (GDP per Capita)', 'Family', 'Health (Life Expectancy)',\n",
    "       'Freedom', 'Trust (Government Corruption)', 'Generosity',\n",
    "       'Dystopia Residual']:\n",
    "    \n",
    "    df[column] = df[column].astype(float)"
   ]
  },
  {
   "cell_type": "code",
   "execution_count": 35,
   "metadata": {},
   "outputs": [
    {
     "name": "stdout",
     "output_type": "stream",
     "text": [
      "<class 'pandas.core.frame.DataFrame'>\n",
      "Int64Index: 426 entries, 0 to 425\n",
      "Data columns (total 22 columns):\n",
      "LOCATION                         426 non-null object\n",
      "TIME                             426 non-null object\n",
      "Value_disposable_income          97 non-null float64\n",
      "Value_adult_education            120 non-null float64\n",
      "Value_alcohol_consumption        104 non-null float64\n",
      "Value_air_pollution              417 non-null float64\n",
      "Value_overweight_population      282 non-null float64\n",
      "Value_avg_annual_hours           106 non-null float64\n",
      "Happiness Rank                   417 non-null float64\n",
      "HDI Rank (2017)                  125 non-null float64\n",
      "income_inequality                380 non-null float64\n",
      "unemployment                     402 non-null float64\n",
      "HDI_value                        402 non-null float64\n",
      "Region                           426 non-null object\n",
      "Happiness Score                  417 non-null float64\n",
      "Economy (GDP per Capita)         417 non-null float64\n",
      "Family                           417 non-null float64\n",
      "Health (Life Expectancy)         417 non-null float64\n",
      "Freedom                          417 non-null float64\n",
      "Trust (Government Corruption)    417 non-null float64\n",
      "Generosity                       417 non-null float64\n",
      "Dystopia Residual                417 non-null float64\n",
      "dtypes: float64(19), object(3)\n",
      "memory usage: 76.5+ KB\n"
     ]
    }
   ],
   "source": [
    "df.info()"
   ]
  },
  {
   "cell_type": "markdown",
   "metadata": {},
   "source": [
    "### Check duplicate rows\n",
    "we donot have duplicate rows"
   ]
  },
  {
   "cell_type": "code",
   "execution_count": 36,
   "metadata": {},
   "outputs": [
    {
     "name": "stdout",
     "output_type": "stream",
     "text": [
      "426\n",
      "426\n"
     ]
    }
   ],
   "source": [
    "print(len(df)) # initial \n",
    "df = df.drop_duplicates()\n",
    "print(len(df)) # after removing duplicates"
   ]
  },
  {
   "cell_type": "markdown",
   "metadata": {},
   "source": [
    "### Check missing value"
   ]
  },
  {
   "cell_type": "code",
   "execution_count": 37,
   "metadata": {},
   "outputs": [
    {
     "name": "stdout",
     "output_type": "stream",
     "text": [
      "The number of missing values in each column: \n"
     ]
    },
    {
     "data": {
      "text/plain": [
       "LOCATION                           0\n",
       "TIME                               0\n",
       "Value_disposable_income          329\n",
       "Value_adult_education            306\n",
       "Value_alcohol_consumption        322\n",
       "Value_air_pollution                9\n",
       "Value_overweight_population      144\n",
       "Value_avg_annual_hours           320\n",
       "Happiness Rank                     9\n",
       "HDI Rank (2017)                  301\n",
       "income_inequality                 46\n",
       "unemployment                      24\n",
       "HDI_value                         24\n",
       "Region                             0\n",
       "Happiness Score                    9\n",
       "Economy (GDP per Capita)           9\n",
       "Family                             9\n",
       "Health (Life Expectancy)           9\n",
       "Freedom                            9\n",
       "Trust (Government Corruption)      9\n",
       "Generosity                         9\n",
       "Dystopia Residual                  9\n",
       "dtype: int64"
      ]
     },
     "execution_count": 37,
     "metadata": {},
     "output_type": "execute_result"
    }
   ],
   "source": [
    "print(\"The number of missing values in each column: \")\n",
    "# if sum >0, it means missing value\n",
    "df.isnull().sum()"
   ]
  },
  {
   "cell_type": "code",
   "execution_count": 38,
   "metadata": {},
   "outputs": [
    {
     "name": "stdout",
     "output_type": "stream",
     "text": [
      "Print the missing ratio: \n"
     ]
    },
    {
     "data": {
      "text/plain": [
       "LOCATION                         0.000000\n",
       "TIME                             0.000000\n",
       "Value_disposable_income          0.772300\n",
       "Value_adult_education            0.718310\n",
       "Value_alcohol_consumption        0.755869\n",
       "Value_air_pollution              0.021127\n",
       "Value_overweight_population      0.338028\n",
       "Value_avg_annual_hours           0.751174\n",
       "Happiness Rank                   0.021127\n",
       "HDI Rank (2017)                  0.706573\n",
       "income_inequality                0.107981\n",
       "unemployment                     0.056338\n",
       "HDI_value                        0.056338\n",
       "Region                           0.000000\n",
       "Happiness Score                  0.021127\n",
       "Economy (GDP per Capita)         0.021127\n",
       "Family                           0.021127\n",
       "Health (Life Expectancy)         0.021127\n",
       "Freedom                          0.021127\n",
       "Trust (Government Corruption)    0.021127\n",
       "Generosity                       0.021127\n",
       "Dystopia Residual                0.021127\n",
       "dtype: float64"
      ]
     },
     "execution_count": 38,
     "metadata": {},
     "output_type": "execute_result"
    }
   ],
   "source": [
    "print(\"Print the missing ratio: \")\n",
    "df.isnull().sum()/len(df)"
   ]
  },
  {
   "cell_type": "markdown",
   "metadata": {},
   "source": [
    "- We can see we have quite high missing ratio in `Value_disposable_income`, `Value_adult_education`, `Value_alcohol_consumption`, `Value_avg_annual_hours` and `Value_overweight_population`, and it is hard/unreasonable to fill in them.  \n",
    "Thus, "
   ]
  },
  {
   "cell_type": "markdown",
   "metadata": {},
   "source": [
    "### Drop rows\n",
    "To control the missing ratio"
   ]
  },
  {
   "cell_type": "code",
   "execution_count": 39,
   "metadata": {},
   "outputs": [
    {
     "data": {
      "text/plain": [
       "(126, 22)"
      ]
     },
     "execution_count": 39,
     "metadata": {},
     "output_type": "execute_result"
    }
   ],
   "source": [
    "df = df[:126] #\n",
    "df.shape"
   ]
  },
  {
   "cell_type": "code",
   "execution_count": 40,
   "metadata": {},
   "outputs": [
    {
     "name": "stdout",
     "output_type": "stream",
     "text": [
      "Print the missing ratio: \n"
     ]
    },
    {
     "data": {
      "text/plain": [
       "LOCATION                         0.000000\n",
       "TIME                             0.000000\n",
       "Value_disposable_income          0.230159\n",
       "Value_adult_education            0.047619\n",
       "Value_alcohol_consumption        0.174603\n",
       "Value_air_pollution              0.023810\n",
       "Value_overweight_population      0.325397\n",
       "Value_avg_annual_hours           0.158730\n",
       "Happiness Rank                   0.000000\n",
       "HDI Rank (2017)                  0.682540\n",
       "income_inequality                0.031746\n",
       "unemployment                     0.023810\n",
       "HDI_value                        0.023810\n",
       "Region                           0.000000\n",
       "Happiness Score                  0.000000\n",
       "Economy (GDP per Capita)         0.000000\n",
       "Family                           0.000000\n",
       "Health (Life Expectancy)         0.000000\n",
       "Freedom                          0.000000\n",
       "Trust (Government Corruption)    0.000000\n",
       "Generosity                       0.000000\n",
       "Dystopia Residual                0.000000\n",
       "dtype: float64"
      ]
     },
     "execution_count": 40,
     "metadata": {},
     "output_type": "execute_result"
    }
   ],
   "source": [
    "print(\"Print the missing ratio: \")\n",
    "df.isnull().sum()/len(df)"
   ]
  },
  {
   "cell_type": "code",
   "execution_count": 41,
   "metadata": {},
   "outputs": [
    {
     "data": {
      "text/plain": [
       "44"
      ]
     },
     "execution_count": 41,
     "metadata": {},
     "output_type": "execute_result"
    }
   ],
   "source": [
    "len(df['LOCATION'].unique())"
   ]
  },
  {
   "cell_type": "markdown",
   "metadata": {},
   "source": [
    "### Fill missing value \n",
    "Two stages:\n",
    "- Stage 1: Given the country has at least one year observation, If one year is missing for a country, then average the other 2 years or 1 year. \n",
    "- Stage 2: After stage 1, if the country has no observation in all three years, then average the values from the countries which belong is the same region using the 'Region' attribute.\n",
    "- Stage 3: If missing value for given region (i,e, both stage 1 and 2 fail), just use average value of that column"
   ]
  },
  {
   "cell_type": "code",
   "execution_count": 42,
   "metadata": {},
   "outputs": [],
   "source": [
    "def isNaN(num):\n",
    "    return num != num\n",
    "\n",
    "def get_avg_region(data, column, country,region):\n",
    "    region_data = data[data['Region'] == region]\n",
    "    return region_data[column].mean()\n",
    "\n",
    "\"\"\"\n",
    "Stage 1 and Satge 2\n",
    "\"\"\"\n",
    "def fill_missing_value(df):\n",
    "    final_df = df.copy()\n",
    "    for index, row in final_df.iterrows():\n",
    "        # the columns have missing value and need to fill\n",
    "        for column in ['Value_disposable_income', 'Value_adult_education', 'Value_alcohol_consumption', 'Value_air_pollution',\n",
    "                  'Value_avg_annual_hours','income_inequality', 'unemployment']:\n",
    "            if row[column] == None or isNaN(row[column]):\n",
    "                country = row['LOCATION']\n",
    "                this_year = row['TIME']\n",
    "                \n",
    "                ## find ovservations for given country\n",
    "                sub_data = final_df[final_df['LOCATION'] == country]\n",
    "                #print(sub_data[['TIME', column]])\n",
    "                ## look for the obs in other years\n",
    "                sub_data = sub_data[sub_data['TIME'] != this_year]\n",
    "                \n",
    "                if not isNaN(sub_data[column].mean()):  \n",
    "                    #print(sub_data[column].mean())\n",
    "                    #print('fill using stage 1')\n",
    "                    final_df.at[index, column] = sub_data[column].mean() # fill missing point based on stage 1 strategy\n",
    "                \n",
    "                else: # stage 2, since no observation for all three year\n",
    "                    region = row['Region']\n",
    "                    avg_region = get_avg_region(final_df, column, country, region)\n",
    "                    #print('fill using stage 2')\n",
    "                    final_df.at[index, column] = avg_region\n",
    "                    if isNaN(avg_region):  # Stage 3: If still missing, we fill missing point\n",
    "                        print('need fill using stage 3')\n",
    "                        continue\n",
    "                        \n",
    "        \n",
    "            #print('---------------------------------------------------------------')\n",
    "        \n",
    "    \n",
    "    return final_df\n",
    "    \n",
    "    \n"
   ]
  },
  {
   "cell_type": "code",
   "execution_count": 43,
   "metadata": {},
   "outputs": [
    {
     "name": "stdout",
     "output_type": "stream",
     "text": [
      "need fill using stage 3\n",
      "need fill using stage 3\n",
      "need fill using stage 3\n",
      "need fill using stage 3\n",
      "need fill using stage 3\n",
      "need fill using stage 3\n",
      "need fill using stage 3\n",
      "need fill using stage 3\n",
      "need fill using stage 3\n",
      "need fill using stage 3\n",
      "need fill using stage 3\n",
      "need fill using stage 3\n",
      "need fill using stage 3\n",
      "need fill using stage 3\n",
      "need fill using stage 3\n"
     ]
    }
   ],
   "source": [
    "# 💕 new part!\n",
    "final_df = fill_missing_value(df)"
   ]
  },
  {
   "cell_type": "code",
   "execution_count": 44,
   "metadata": {},
   "outputs": [
    {
     "data": {
      "text/plain": [
       "LOCATION                         0.000000\n",
       "TIME                             0.000000\n",
       "Value_disposable_income          0.039683\n",
       "Value_adult_education            0.015873\n",
       "Value_alcohol_consumption        0.000000\n",
       "Value_air_pollution              0.000000\n",
       "Value_overweight_population      0.325397\n",
       "Value_avg_annual_hours           0.063492\n",
       "Happiness Rank                   0.000000\n",
       "HDI Rank (2017)                  0.682540\n",
       "income_inequality                0.000000\n",
       "unemployment                     0.000000\n",
       "HDI_value                        0.023810\n",
       "Region                           0.000000\n",
       "Happiness Score                  0.000000\n",
       "Economy (GDP per Capita)         0.000000\n",
       "Family                           0.000000\n",
       "Health (Life Expectancy)         0.000000\n",
       "Freedom                          0.000000\n",
       "Trust (Government Corruption)    0.000000\n",
       "Generosity                       0.000000\n",
       "Dystopia Residual                0.000000\n",
       "dtype: float64"
      ]
     },
     "execution_count": 44,
     "metadata": {},
     "output_type": "execute_result"
    }
   ],
   "source": [
    "final_df.isnull().sum()/len(final_df)"
   ]
  },
  {
   "cell_type": "code",
   "execution_count": 45,
   "metadata": {},
   "outputs": [],
   "source": [
    "\"\"\"\n",
    "Stage 3:\n",
    "\"\"\"\n",
    "for column in ['Value_disposable_income', 'Value_adult_education', 'Value_alcohol_consumption', 'Value_air_pollution',\n",
    "              'Value_avg_annual_hours','income_inequality', 'unemployment']:\n",
    "    final_df[column].fillna((final_df[column].mean()), inplace=True)"
   ]
  },
  {
   "cell_type": "code",
   "execution_count": null,
   "metadata": {},
   "outputs": [],
   "source": []
  },
  {
   "cell_type": "markdown",
   "metadata": {},
   "source": [
    "### output the cleaned dataset!"
   ]
  },
  {
   "cell_type": "code",
   "execution_count": 46,
   "metadata": {},
   "outputs": [],
   "source": [
    "final_df.to_csv('../data/final_data.csv', index = None)"
   ]
  },
  {
   "cell_type": "code",
   "execution_count": null,
   "metadata": {},
   "outputs": [],
   "source": []
  }
 ],
 "metadata": {
  "kernelspec": {
   "display_name": "Python 3",
   "language": "python",
   "name": "python3"
  },
  "language_info": {
   "codemirror_mode": {
    "name": "ipython",
    "version": 3
   },
   "file_extension": ".py",
   "mimetype": "text/x-python",
   "name": "python",
   "nbconvert_exporter": "python",
   "pygments_lexer": "ipython3",
   "version": "3.7.3"
  }
 },
 "nbformat": 4,
 "nbformat_minor": 2
}
